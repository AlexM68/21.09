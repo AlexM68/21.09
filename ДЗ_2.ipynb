{
  "nbformat": 4,
  "nbformat_minor": 0,
  "metadata": {
    "colab": {
      "provenance": [],
      "authorship_tag": "ABX9TyNMD9Lbv2DooGx8uyBappcO",
      "include_colab_link": true
    },
    "kernelspec": {
      "name": "python3",
      "display_name": "Python 3"
    },
    "language_info": {
      "name": "python"
    }
  },
  "cells": [
    {
      "cell_type": "markdown",
      "metadata": {
        "id": "view-in-github",
        "colab_type": "text"
      },
      "source": [
        "<a href=\"https://colab.research.google.com/github/AlexM68/21.09/blob/main/%D0%94%D0%97_2.ipynb\" target=\"_parent\"><img src=\"https://colab.research.google.com/assets/colab-badge.svg\" alt=\"Open In Colab\"/></a>"
      ]
    },
    {
      "cell_type": "code",
      "execution_count": null,
      "metadata": {
        "colab": {
          "base_uri": "https://localhost:8080/"
        },
        "id": "GjACNmvrK4Ki",
        "outputId": "ae619e52-00b2-4e6c-9af8-0cc6be8583a0"
      },
      "outputs": [
        {
          "output_type": "stream",
          "name": "stdout",
          "text": [
            "Введите команду ('p' для поиска владельца, 's' для поиска полки, 'q' для выхода): p\n",
            "Введите номер документа: 10006\n",
            "Владелец документа: Аристарх Павлов\n"
          ]
        }
      ],
      "source": [
        "# Исходные данные\n",
        "documents = [\n",
        "    {'type': 'passport', 'number': '2207 876234', 'name': 'Василий Гупкин'},\n",
        "    {'type': 'invoice', 'number': '11-2', 'name': 'Геннадий Покемонов'},\n",
        "    {'type': 'insurance', 'number': '10006', 'name': 'Аристарх Павлов'}\n",
        "]\n",
        "\n",
        "directories = {\n",
        "    '1': ['2207 876234', '11-2'],\n",
        "    '2': ['10006'],\n",
        "    '3': []\n",
        "}\n",
        "\n",
        "# Функция для получения информации о владельце документа по его номеру\n",
        "def get_document_owner(doc_number):\n",
        "    for document in documents:\n",
        "        if doc_number == document['number']:\n",
        "            return document['name']\n",
        "    return None\n",
        "\n",
        "# Функция для нахождения полки, на которой хранится документ\n",
        "def get_shelf_for_doc(doc_number):\n",
        "    for shelf, numbers in directories.items():\n",
        "        if doc_number in numbers:\n",
        "            return shelf\n",
        "    return None\n",
        "\n",
        "# Основная программа\n",
        "while True:\n",
        "    command = input(\"Введите команду ('p' для поиска владельца, 's' для поиска полки, 'q' для выхода): \")\n",
        "\n",
        "    if command == 'p':\n",
        "        doc_number = input(\"Введите номер документа: \")\n",
        "        owner = get_document_owner(doc_number)\n",
        "\n",
        "        if owner is not None:\n",
        "            print(f\"Владелец документа: {owner}\")\n",
        "        else:\n",
        "            print(\"Документ с таким номером не найден.\")\n",
        "\n",
        "    elif command == 's':\n",
        "        doc_number = input(\"Введите номер документа: \")\n",
        "        shelf = get_shelf_for_doc(doc_number)\n",
        "\n",
        "        if shelf is not None:\n",
        "            print(f\"Документ хранится на полке: {shelf}\")\n",
        "        else:\n",
        "            print(\"Документ с таким номером не найден.\")\n",
        "\n",
        "    elif command == 'q':\n",
        "        break\n",
        "\n",
        "    else:\n",
        "        print(\"Неизвестная команда. Попробуйте еще раз.\")"
      ]
    },
    {
      "cell_type": "code",
      "source": [],
      "metadata": {
        "id": "cotTv4YHMb39"
      },
      "execution_count": null,
      "outputs": []
    }
  ]
}