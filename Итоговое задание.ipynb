{
 "cells": [
  {
   "cell_type": "code",
   "execution_count": 4,
   "id": "309a9c20-c402-4849-9d66-bf7669c7ecbe",
   "metadata": {
    "scrolled": true
   },
   "outputs": [
    {
     "name": "stdout",
     "output_type": "stream",
     "text": [
      "year\n",
      "1957    4.014241\n",
      "1972    4.011136\n",
      "1952    4.000000\n",
      "1954    3.994220\n",
      "1951    3.983539\n",
      "          ...   \n",
      "2005    3.448434\n",
      "2003    3.444777\n",
      "1996    3.426600\n",
      "1997    3.415764\n",
      "2000    3.356104\n",
      "Name: rating, Length: 62, dtype: float64\n"
     ]
    }
   ],
   "source": [
    "import pandas as pd\n",
    "\n",
    "# Чтение данных из CSV файла\n",
    "df = pd.read_csv(r'C:\\Users\\User\\Desktop\\movies_stats.csv')\n",
    "\n",
    "# Список лет от 1950 до 2010\n",
    "years = list(range(1950, 2011))\n",
    "\n",
    "# Функция для определения года выпуска\n",
    "def production_year(title):\n",
    "    for year in years:\n",
    "        if str(year) in title:\n",
    "            return year\n",
    "    return 1900\n",
    "\n",
    "# Добавление нового столбца 'year'\n",
    "df['year'] = df['title'].apply(production_year)\n",
    "\n",
    "# Средний рейтинг по годам\n",
    "mean_ratings_by_year = df.groupby('year')['rating'].mean().sort_values(ascending=False)\n",
    "\n",
    "print(mean_ratings_by_year)"
   ]
  }
 ],
 "metadata": {
  "kernelspec": {
   "display_name": "Python 3 (ipykernel)",
   "language": "python",
   "name": "python3"
  },
  "language_info": {
   "codemirror_mode": {
    "name": "ipython",
    "version": 3
   },
   "file_extension": ".py",
   "mimetype": "text/x-python",
   "name": "python",
   "nbconvert_exporter": "python",
   "pygments_lexer": "ipython3",
   "version": "3.12.4"
  }
 },
 "nbformat": 4,
 "nbformat_minor": 5
}
