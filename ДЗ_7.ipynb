{
  "nbformat": 4,
  "nbformat_minor": 0,
  "metadata": {
    "colab": {
      "provenance": [],
      "authorship_tag": "ABX9TyMP3Hv4jwwV8GKwJj2wletA",
      "include_colab_link": true
    },
    "kernelspec": {
      "name": "python3",
      "display_name": "Python 3"
    },
    "language_info": {
      "name": "python"
    }
  },
  "cells": [
    {
      "cell_type": "markdown",
      "metadata": {
        "id": "view-in-github",
        "colab_type": "text"
      },
      "source": [
        "<a href=\"https://colab.research.google.com/github/AlexM68/21.09/blob/main/%D0%94%D0%97_7.ipynb\" target=\"_parent\"><img src=\"https://colab.research.google.com/assets/colab-badge.svg\" alt=\"Open In Colab\"/></a>"
      ]
    },
    {
      "cell_type": "code",
      "source": [
        "import re\n",
        "\n",
        "def validate_and_parse_car_number(car_id):\n",
        "    # Допустимые буквы для номеров автомобилей\n",
        "    allowed_letters = 'АВЕКМНОРСТУХ'\n",
        "\n",
        "    # Проверяем формат номера с помощью регулярного выражения\n",
        "    pattern = rf'^[{allowed_letters}]\\d{{3}}[{allowed_letters}]{{2}}\\d{{2,3}}$'\n",
        "    match = re.match(pattern, car_id)\n",
        "\n",
        "    if match:\n",
        "        # Разделяем номер на части: сам номер и регион\n",
        "        number_part = match.group()[:-2]\n",
        "        region_part = match.group()[-2:]\n",
        "\n",
        "        return f'Номер {number_part} валиден. Регион: {region_part}.'\n",
        "    else:\n",
        "        return 'Номер не валиден.'\n",
        "\n",
        "# Примеры использования\n",
        "print(validate_and_parse_car_number('А222ВС96'))  # Валидный номер\n",
        "print(validate_and_parse_car_number('АБ22ВВ193')) # Невалидный номер"
      ],
      "metadata": {
        "id": "_89-AxergwG5"
      },
      "execution_count": null,
      "outputs": []
    }
  ]
}