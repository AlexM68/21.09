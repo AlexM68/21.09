{
  "nbformat": 4,
  "nbformat_minor": 0,
  "metadata": {
    "colab": {
      "provenance": [],
      "authorship_tag": "ABX9TyMvKNifjuWSe353TjhdhjNb",
      "include_colab_link": true
    },
    "kernelspec": {
      "name": "python3",
      "display_name": "Python 3"
    },
    "language_info": {
      "name": "python"
    }
  },
  "cells": [
    {
      "cell_type": "markdown",
      "metadata": {
        "id": "view-in-github",
        "colab_type": "text"
      },
      "source": [
        "<a href=\"https://colab.research.google.com/github/AlexM68/21.09/blob/main/%D0%94%D0%97_1.ipynb\" target=\"_parent\"><img src=\"https://colab.research.google.com/assets/colab-badge.svg\" alt=\"Open In Colab\"/></a>"
      ]
    },
    {
      "cell_type": "markdown",
      "source": [
        "# Новый раздел"
      ],
      "metadata": {
        "id": "qy5OvZSRQQey"
      }
    },
    {
      "cell_type": "code",
      "source": [
        "ids = {'user1': {213, 213, 213, 15, 213},\n",
        "       'user2': [54, 54, 119, 119, 119],\n",
        "       'user3': {213, 54, 119, 15},\n",
        "       'user4': [15, 15, 213, 54, 119]}\n",
        "\n",
        "# Создаем множество для хранения уникальных геометок\n",
        "unique_geo = set()\n",
        "\n",
        "# Проходим по значениям словаря (геометкам пользователей)\n",
        "for user_geo in ids.values():\n",
        "  # Преобразуем список или множество в множество, чтобы исключить дубликаты\n",
        "  # и добавляем его к множеству unique_geo\n",
        "  unique_geo.update(user_geo)\n",
        "\n",
        "# Выводим на экран множество уникальных геометок\n",
        "print(\"Множество уникальных геометок всех пользователей:\", unique_geo)"
      ],
      "metadata": {
        "colab": {
          "base_uri": "https://localhost:8080/"
        },
        "id": "QFHl0cySO1Jg",
        "outputId": "93465d42-f84c-4c3a-a6d2-6ca4cada6143"
      },
      "execution_count": 1,
      "outputs": [
        {
          "output_type": "stream",
          "name": "stdout",
          "text": [
            "Множество уникальных геометок всех пользователей: {15, 213, 54, 119}\n"
          ]
        }
      ]
    },
    {
      "cell_type": "code",
      "source": [
        "from collections import Counter\n",
        "\n",
        "queries = [\n",
        "    'смотреть сериалы онлайн',\n",
        "    'новости спорта',\n",
        "    'афиша кино',\n",
        "    'курс доллара',\n",
        "    'сериалы этим летом',\n",
        "    'курс по питону',\n",
        "    'сериалы про спорт',\n",
        "]\n",
        "\n",
        "# Считаем количество слов в каждом запросе\n",
        "word_counts = [len(query.split()) for query in queries]\n",
        "\n",
        "# Подсчитываем количество запросов с определенным количеством слов\n",
        "count_by_word_count = Counter(word_counts)\n",
        "\n",
        "# Вычисляем общее количество запросов\n",
        "total_queries = len(queries)\n",
        "\n",
        "# Выводим результат\n",
        "for word_count, count in count_by_word_count.items():\n",
        "    percentage = (count / total_queries) * 100\n",
        "    print(f\"Поисковых запросов, содержащих {word_count} слов(а): {percentage:.2f}%\")"
      ],
      "metadata": {
        "colab": {
          "base_uri": "https://localhost:8080/"
        },
        "id": "NI_h_onAO7JA",
        "outputId": "97630343-403c-4247-f74f-6b19f70f738d"
      },
      "execution_count": 2,
      "outputs": [
        {
          "output_type": "stream",
          "name": "stdout",
          "text": [
            "Поисковых запросов, содержащих 3 слов(а): 57.14%\n",
            "Поисковых запросов, содержащих 2 слов(а): 42.86%\n"
          ]
        }
      ]
    }
  ]
}