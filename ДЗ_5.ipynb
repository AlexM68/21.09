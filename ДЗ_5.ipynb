{
  "nbformat": 4,
  "nbformat_minor": 0,
  "metadata": {
    "colab": {
      "provenance": [],
      "authorship_tag": "ABX9TyNZb5GmNKdTSYrSTLpZevwb",
      "include_colab_link": true
    },
    "kernelspec": {
      "name": "python3",
      "display_name": "Python 3"
    },
    "language_info": {
      "name": "python"
    }
  },
  "cells": [
    {
      "cell_type": "markdown",
      "metadata": {
        "id": "view-in-github",
        "colab_type": "text"
      },
      "source": [
        "<a href=\"https://colab.research.google.com/github/AlexM68/21.09/blob/main/%D0%94%D0%97_5.ipynb\" target=\"_parent\"><img src=\"https://colab.research.google.com/assets/colab-badge.svg\" alt=\"Open In Colab\"/></a>"
      ]
    },
    {
      "cell_type": "code",
      "execution_count": 1,
      "metadata": {
        "colab": {
          "base_uri": "https://localhost:8080/"
        },
        "id": "i-cTWN5EbUlu",
        "outputId": "d95a5d2d-d435-447d-cad0-06b8d343c96e"
      },
      "outputs": [
        {
          "output_type": "stream",
          "name": "stdout",
          "text": [
            "The Moscow Times: 2002-10-02 00:00:00\n",
            "The Guardian: 2013-10-11 00:00:00\n",
            "Daily News: 1977-08-18 00:00:00\n"
          ]
        }
      ],
      "source": [
        "from datetime import datetime\n",
        "\n",
        "# The Moscow Times\n",
        "moscow_times_date = \"Wednesday, October 2, 2002\"\n",
        "moscow_format = \"%A, %B %d, %Y\"\n",
        "moscow_result = datetime.strptime(moscow_times_date, moscow_format)\n",
        "print(\"The Moscow Times:\", moscow_result)\n",
        "\n",
        "# The Guardian\n",
        "guardian_date = \"Friday, 11.10.13\"\n",
        "guardian_format = \"%A, %d.%m.%y\"\n",
        "guardian_result = datetime.strptime(guardian_date, guardian_format)\n",
        "print(\"The Guardian:\", guardian_result)\n",
        "\n",
        "# Daily News\n",
        "daily_news_date = \"Thursday, 18 August 1977\"\n",
        "daily_news_format = \"%A, %d %B %Y\"\n",
        "daily_news_result = datetime.strptime(daily_news_date, daily_news_format)\n",
        "print(\"Daily News:\", daily_news_result)"
      ]
    }
  ]
}